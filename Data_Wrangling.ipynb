{
  "nbformat": 4,
  "nbformat_minor": 0,
  "metadata": {
    "colab": {
      "name": "Data_Wrangling.ipynb",
      "provenance": [],
      "collapsed_sections": [],
      "toc_visible": true
    },
    "kernelspec": {
      "name": "python3",
      "display_name": "Python 3"
    }
  },
  "cells": [
    {
      "cell_type": "markdown",
      "metadata": {
        "id": "yVlBSMX6k6VB"
      },
      "source": [
        "## Data Wrangling\n",
        "\n",
        "Data wrangling is performed to gather and clean NASA data from various sources before using the cleaned data to predict wildfire with a machine learning model. To train the machine learning model, the following data is collected.\n",
        "\n",
        "- fire location (label)\n",
        "- temperature\n",
        "- solar insolation\n",
        "- rainfall"
      ]
    },
    {
      "cell_type": "markdown",
      "metadata": {
        "id": "5fh_E5EhlYhY"
      },
      "source": [
        "### Fire location\n",
        "\n",
        "Source: https://firms.modaps.eosdis.nasa.gov/active_fire/#firms-txt <br>\n",
        "Check [here](https://earthdata.nasa.gov/earth-observation-data/near-real-time/firms/v1-vnp14imgt#ed-viirs-375m-attributes) for attribute fields for VIIRS <br>\n",
        "\n",
        "VIIRS is chosen over MODIS because resolution is higher. For more information, check [here](https://earthdata.nasa.gov/faq/firms-faq)\n",
        "\n",
        "\n"
      ]
    },
    {
      "cell_type": "code",
      "metadata": {
        "id": "kWWeIWPFSzoG"
      },
      "source": [
        "!pip install netcdf4"
      ],
      "execution_count": null,
      "outputs": []
    },
    {
      "cell_type": "code",
      "metadata": {
        "id": "Tk1PQwMXk1iw"
      },
      "source": [
        "import pandas as pd\n",
        "import numpy as np\n",
        "import os\n",
        "from google.colab import drive\n",
        "import requests\n",
        "import matplotlib.pyplot as plt\n",
        "from skimage import io\n",
        "import cv2\n",
        "import netCDF4 as nc\n",
        "import pickle\n",
        "\n",
        "# Mount google drive\n",
        "drive.mount('/content/drive/')"
      ],
      "execution_count": null,
      "outputs": []
    },
    {
      "cell_type": "code",
      "metadata": {
        "id": "51fgW_cG_l8V",
        "colab": {
          "base_uri": "https://localhost:8080/",
          "height": 204
        },
        "outputId": "7254abab-405a-42dc-aaa5-864330827c59"
      },
      "source": [
        "# Define file path of fire location dataset file path\n",
        "fpath_dataset = '/content/drive/Shared drives/NASA Space App/Code/Dataset'\n",
        "fpath_fire_dataset = os.path.join(fpath_dataset, 'Fire', 'Aus_01_12_19_to_31_01_20.csv')\n",
        "\n",
        "# Import fire dataset\n",
        "df = pd.read_csv(fpath_fire_dataset)\n",
        "df.head()"
      ],
      "execution_count": 5,
      "outputs": [
        {
          "output_type": "execute_result",
          "data": {
            "text/html": [
              "<div>\n",
              "<style scoped>\n",
              "    .dataframe tbody tr th:only-of-type {\n",
              "        vertical-align: middle;\n",
              "    }\n",
              "\n",
              "    .dataframe tbody tr th {\n",
              "        vertical-align: top;\n",
              "    }\n",
              "\n",
              "    .dataframe thead th {\n",
              "        text-align: right;\n",
              "    }\n",
              "</style>\n",
              "<table border=\"1\" class=\"dataframe\">\n",
              "  <thead>\n",
              "    <tr style=\"text-align: right;\">\n",
              "      <th></th>\n",
              "      <th>latitude</th>\n",
              "      <th>longitude</th>\n",
              "      <th>bright_ti4</th>\n",
              "      <th>scan</th>\n",
              "      <th>track</th>\n",
              "      <th>acq_date</th>\n",
              "      <th>acq_time</th>\n",
              "      <th>satellite</th>\n",
              "      <th>instrument</th>\n",
              "      <th>confidence</th>\n",
              "      <th>version</th>\n",
              "      <th>bright_ti5</th>\n",
              "      <th>frp</th>\n",
              "      <th>daynight</th>\n",
              "      <th>type</th>\n",
              "    </tr>\n",
              "  </thead>\n",
              "  <tbody>\n",
              "    <tr>\n",
              "      <th>0</th>\n",
              "      <td>-33.263584</td>\n",
              "      <td>150.323334</td>\n",
              "      <td>335.52</td>\n",
              "      <td>0.42</td>\n",
              "      <td>0.61</td>\n",
              "      <td>2019-12-01</td>\n",
              "      <td>258</td>\n",
              "      <td>N</td>\n",
              "      <td>VIIRS</td>\n",
              "      <td>n</td>\n",
              "      <td>1</td>\n",
              "      <td>298.20</td>\n",
              "      <td>5.97</td>\n",
              "      <td>D</td>\n",
              "      <td>0</td>\n",
              "    </tr>\n",
              "    <tr>\n",
              "      <th>1</th>\n",
              "      <td>-33.275116</td>\n",
              "      <td>150.324799</td>\n",
              "      <td>333.53</td>\n",
              "      <td>0.42</td>\n",
              "      <td>0.61</td>\n",
              "      <td>2019-12-01</td>\n",
              "      <td>258</td>\n",
              "      <td>N</td>\n",
              "      <td>VIIRS</td>\n",
              "      <td>n</td>\n",
              "      <td>1</td>\n",
              "      <td>297.07</td>\n",
              "      <td>5.10</td>\n",
              "      <td>D</td>\n",
              "      <td>0</td>\n",
              "    </tr>\n",
              "    <tr>\n",
              "      <th>2</th>\n",
              "      <td>-33.272636</td>\n",
              "      <td>150.370300</td>\n",
              "      <td>331.28</td>\n",
              "      <td>0.42</td>\n",
              "      <td>0.61</td>\n",
              "      <td>2019-12-01</td>\n",
              "      <td>258</td>\n",
              "      <td>N</td>\n",
              "      <td>VIIRS</td>\n",
              "      <td>n</td>\n",
              "      <td>1</td>\n",
              "      <td>297.03</td>\n",
              "      <td>1.22</td>\n",
              "      <td>D</td>\n",
              "      <td>0</td>\n",
              "    </tr>\n",
              "    <tr>\n",
              "      <th>3</th>\n",
              "      <td>-33.262867</td>\n",
              "      <td>150.546707</td>\n",
              "      <td>331.68</td>\n",
              "      <td>0.41</td>\n",
              "      <td>0.61</td>\n",
              "      <td>2019-12-01</td>\n",
              "      <td>258</td>\n",
              "      <td>N</td>\n",
              "      <td>VIIRS</td>\n",
              "      <td>n</td>\n",
              "      <td>1</td>\n",
              "      <td>301.00</td>\n",
              "      <td>3.47</td>\n",
              "      <td>D</td>\n",
              "      <td>0</td>\n",
              "    </tr>\n",
              "    <tr>\n",
              "      <th>4</th>\n",
              "      <td>-33.279850</td>\n",
              "      <td>150.344421</td>\n",
              "      <td>331.86</td>\n",
              "      <td>0.42</td>\n",
              "      <td>0.61</td>\n",
              "      <td>2019-12-01</td>\n",
              "      <td>258</td>\n",
              "      <td>N</td>\n",
              "      <td>VIIRS</td>\n",
              "      <td>n</td>\n",
              "      <td>1</td>\n",
              "      <td>297.38</td>\n",
              "      <td>6.89</td>\n",
              "      <td>D</td>\n",
              "      <td>0</td>\n",
              "    </tr>\n",
              "  </tbody>\n",
              "</table>\n",
              "</div>"
            ],
            "text/plain": [
              "    latitude   longitude  bright_ti4  scan  ...  bright_ti5   frp  daynight type\n",
              "0 -33.263584  150.323334      335.52  0.42  ...      298.20  5.97         D    0\n",
              "1 -33.275116  150.324799      333.53  0.42  ...      297.07  5.10         D    0\n",
              "2 -33.272636  150.370300      331.28  0.42  ...      297.03  1.22         D    0\n",
              "3 -33.262867  150.546707      331.68  0.41  ...      301.00  3.47         D    0\n",
              "4 -33.279850  150.344421      331.86  0.42  ...      297.38  6.89         D    0\n",
              "\n",
              "[5 rows x 15 columns]"
            ]
          },
          "metadata": {
            "tags": []
          },
          "execution_count": 5
        }
      ]
    },
    {
      "cell_type": "code",
      "metadata": {
        "id": "R9x2XiAHrzKd",
        "colab": {
          "base_uri": "https://localhost:8080/"
        },
        "outputId": "ac66c49c-9c9f-46f9-9eb5-18744c87a2a8"
      },
      "source": [
        "# Drop night data\n",
        "df = df[df.daynight == 'D'].reset_index(drop=True)\n",
        "\n",
        "# Make sure all the night data is removed\n",
        "print(df.daynight.unique())\n",
        "\n",
        "# Save the data frame\n",
        "fpath_dataset = '/content/drive/Shared drives/NASA Space App/Code/Dataset'\n",
        "outpath = os.path.join(fpath_dataset, 'Fire', '[DAY] Aus_01_12_19_to_31_01_20.csv')\n",
        "\n",
        "df.to_csv(outpath, index=False)"
      ],
      "execution_count": 6,
      "outputs": [
        {
          "output_type": "stream",
          "text": [
            "['D']\n"
          ],
          "name": "stdout"
        }
      ]
    },
    {
      "cell_type": "code",
      "metadata": {
        "id": "4nR1nCQwrBM3",
        "colab": {
          "base_uri": "https://localhost:8080/",
          "height": 204
        },
        "outputId": "fa348d29-9588-439e-b99b-06d2fd9d60a9"
      },
      "source": [
        "# Extract useful columns\n",
        "cols = ['latitude', 'longitude', 'acq_date', 'acq_time', 'type']\n",
        "df = df[cols]\n",
        "\n",
        "df.head()"
      ],
      "execution_count": 7,
      "outputs": [
        {
          "output_type": "execute_result",
          "data": {
            "text/html": [
              "<div>\n",
              "<style scoped>\n",
              "    .dataframe tbody tr th:only-of-type {\n",
              "        vertical-align: middle;\n",
              "    }\n",
              "\n",
              "    .dataframe tbody tr th {\n",
              "        vertical-align: top;\n",
              "    }\n",
              "\n",
              "    .dataframe thead th {\n",
              "        text-align: right;\n",
              "    }\n",
              "</style>\n",
              "<table border=\"1\" class=\"dataframe\">\n",
              "  <thead>\n",
              "    <tr style=\"text-align: right;\">\n",
              "      <th></th>\n",
              "      <th>latitude</th>\n",
              "      <th>longitude</th>\n",
              "      <th>acq_date</th>\n",
              "      <th>acq_time</th>\n",
              "      <th>type</th>\n",
              "    </tr>\n",
              "  </thead>\n",
              "  <tbody>\n",
              "    <tr>\n",
              "      <th>0</th>\n",
              "      <td>-33.263584</td>\n",
              "      <td>150.323334</td>\n",
              "      <td>2019-12-01</td>\n",
              "      <td>258</td>\n",
              "      <td>0</td>\n",
              "    </tr>\n",
              "    <tr>\n",
              "      <th>1</th>\n",
              "      <td>-33.275116</td>\n",
              "      <td>150.324799</td>\n",
              "      <td>2019-12-01</td>\n",
              "      <td>258</td>\n",
              "      <td>0</td>\n",
              "    </tr>\n",
              "    <tr>\n",
              "      <th>2</th>\n",
              "      <td>-33.272636</td>\n",
              "      <td>150.370300</td>\n",
              "      <td>2019-12-01</td>\n",
              "      <td>258</td>\n",
              "      <td>0</td>\n",
              "    </tr>\n",
              "    <tr>\n",
              "      <th>3</th>\n",
              "      <td>-33.262867</td>\n",
              "      <td>150.546707</td>\n",
              "      <td>2019-12-01</td>\n",
              "      <td>258</td>\n",
              "      <td>0</td>\n",
              "    </tr>\n",
              "    <tr>\n",
              "      <th>4</th>\n",
              "      <td>-33.279850</td>\n",
              "      <td>150.344421</td>\n",
              "      <td>2019-12-01</td>\n",
              "      <td>258</td>\n",
              "      <td>0</td>\n",
              "    </tr>\n",
              "  </tbody>\n",
              "</table>\n",
              "</div>"
            ],
            "text/plain": [
              "    latitude   longitude    acq_date  acq_time  type\n",
              "0 -33.263584  150.323334  2019-12-01       258     0\n",
              "1 -33.275116  150.324799  2019-12-01       258     0\n",
              "2 -33.272636  150.370300  2019-12-01       258     0\n",
              "3 -33.262867  150.546707  2019-12-01       258     0\n",
              "4 -33.279850  150.344421  2019-12-01       258     0"
            ]
          },
          "metadata": {
            "tags": []
          },
          "execution_count": 7
        }
      ]
    },
    {
      "cell_type": "code",
      "metadata": {
        "id": "JwPE08dGB4D9",
        "colab": {
          "base_uri": "https://localhost:8080/",
          "height": 204
        },
        "outputId": "75015d02-1b79-480d-a4b8-ec3d81931574"
      },
      "source": [
        "# Classify whether each row corresponds to fire or not\n",
        "df['fire'] = df['type'].apply(lambda x: 1 if x == 0 else 0)\n",
        "df.head()"
      ],
      "execution_count": 8,
      "outputs": [
        {
          "output_type": "execute_result",
          "data": {
            "text/html": [
              "<div>\n",
              "<style scoped>\n",
              "    .dataframe tbody tr th:only-of-type {\n",
              "        vertical-align: middle;\n",
              "    }\n",
              "\n",
              "    .dataframe tbody tr th {\n",
              "        vertical-align: top;\n",
              "    }\n",
              "\n",
              "    .dataframe thead th {\n",
              "        text-align: right;\n",
              "    }\n",
              "</style>\n",
              "<table border=\"1\" class=\"dataframe\">\n",
              "  <thead>\n",
              "    <tr style=\"text-align: right;\">\n",
              "      <th></th>\n",
              "      <th>latitude</th>\n",
              "      <th>longitude</th>\n",
              "      <th>acq_date</th>\n",
              "      <th>acq_time</th>\n",
              "      <th>type</th>\n",
              "      <th>fire</th>\n",
              "    </tr>\n",
              "  </thead>\n",
              "  <tbody>\n",
              "    <tr>\n",
              "      <th>0</th>\n",
              "      <td>-33.263584</td>\n",
              "      <td>150.323334</td>\n",
              "      <td>2019-12-01</td>\n",
              "      <td>258</td>\n",
              "      <td>0</td>\n",
              "      <td>1</td>\n",
              "    </tr>\n",
              "    <tr>\n",
              "      <th>1</th>\n",
              "      <td>-33.275116</td>\n",
              "      <td>150.324799</td>\n",
              "      <td>2019-12-01</td>\n",
              "      <td>258</td>\n",
              "      <td>0</td>\n",
              "      <td>1</td>\n",
              "    </tr>\n",
              "    <tr>\n",
              "      <th>2</th>\n",
              "      <td>-33.272636</td>\n",
              "      <td>150.370300</td>\n",
              "      <td>2019-12-01</td>\n",
              "      <td>258</td>\n",
              "      <td>0</td>\n",
              "      <td>1</td>\n",
              "    </tr>\n",
              "    <tr>\n",
              "      <th>3</th>\n",
              "      <td>-33.262867</td>\n",
              "      <td>150.546707</td>\n",
              "      <td>2019-12-01</td>\n",
              "      <td>258</td>\n",
              "      <td>0</td>\n",
              "      <td>1</td>\n",
              "    </tr>\n",
              "    <tr>\n",
              "      <th>4</th>\n",
              "      <td>-33.279850</td>\n",
              "      <td>150.344421</td>\n",
              "      <td>2019-12-01</td>\n",
              "      <td>258</td>\n",
              "      <td>0</td>\n",
              "      <td>1</td>\n",
              "    </tr>\n",
              "  </tbody>\n",
              "</table>\n",
              "</div>"
            ],
            "text/plain": [
              "    latitude   longitude    acq_date  acq_time  type  fire\n",
              "0 -33.263584  150.323334  2019-12-01       258     0     1\n",
              "1 -33.275116  150.324799  2019-12-01       258     0     1\n",
              "2 -33.272636  150.370300  2019-12-01       258     0     1\n",
              "3 -33.262867  150.546707  2019-12-01       258     0     1\n",
              "4 -33.279850  150.344421  2019-12-01       258     0     1"
            ]
          },
          "metadata": {
            "tags": []
          },
          "execution_count": 8
        }
      ]
    },
    {
      "cell_type": "code",
      "metadata": {
        "id": "QfOrTHKtbA6x",
        "colab": {
          "base_uri": "https://localhost:8080/"
        },
        "outputId": "6c050030-92c9-42a5-dd61-8d521eca5e34"
      },
      "source": [
        "# Remove duplicated data for the same latitude and longitude in a single day\n",
        "\n",
        "# Get unique dates\n",
        "unique_acq_dates = df.acq_date.unique()\n",
        "\n",
        "for acq_date in unique_acq_dates:\n",
        "  df_acq_date = df[df.acq_date == acq_date]\n",
        "\n",
        "  # Mark the first occurence as True and the rest as False\n",
        "  bool_duplicates = df_acq_date.duplicated(subset=['latitude', 'longitude'])\n",
        "\n",
        "  # Remove duplicates\n",
        "  if sum(bool_duplicates) > 0:\n",
        "    print('Duplicates on {}'.format(acq_date))\n",
        "\n",
        "    # # Print duplicated rows\n",
        "    # with pd.option_context('display.max_rows', None, 'display.max_columns', None):\n",
        "    #   print(df_acq_date[bool_duplicates])\n",
        "\n",
        "    df.drop(df_acq_date[bool_duplicates].index.values, inplace=True)"
      ],
      "execution_count": 9,
      "outputs": [
        {
          "output_type": "stream",
          "text": [
            "Duplicates on 2020-01-13\n"
          ],
          "name": "stdout"
        }
      ]
    },
    {
      "cell_type": "code",
      "metadata": {
        "id": "r_Ii7_Q7XsgY"
      },
      "source": [
        "# Get more non-fire spots to tackle class imbalance problems\n",
        "\n",
        "# Get current coordinates\n",
        "current_coors_list = list(zip(df.latitude, df.longitude))\n",
        "current_coors_list = [(round(x,1), round(y,1)) for x, y in current_coors_list]\n",
        "\n",
        "# Create new coordinates\n",
        "new_lat = np.linspace(-33, -21, 50)\n",
        "new_long = np.linspace(135, 148, 50)\n",
        "new_coors_list = []\n",
        "\n",
        "for x in new_lat:\n",
        "  for y in new_long:\n",
        "    new_coors_list.append((round(x,1), round(y,1)))\n",
        "\n",
        "# Determine new coordinates that are not among current coordinates and use \n",
        "# them as non-fire spots\n",
        "non_fire_coors_list = list(set(new_coors_list) - set(current_coors_list ))\n",
        "\n",
        "# Store in data frame\n",
        "new_data = []\n",
        "\n",
        "# Get unique dates\n",
        "unique_acq_dates = df.acq_date.unique()\n",
        "\n",
        "for lat, long in non_fire_coors_list:\n",
        "    for acq_date in unique_acq_dates:\n",
        "      new_data.append({'latitude': lat, \n",
        "                       'longitude': long,\n",
        "                       'acq_date': acq_date,\n",
        "                       'fire': 0})\n",
        "      \n",
        "df_non_fire = pd.DataFrame(new_data)"
      ],
      "execution_count": 10,
      "outputs": []
    },
    {
      "cell_type": "code",
      "metadata": {
        "id": "129jpXXUfJv9",
        "colab": {
          "base_uri": "https://localhost:8080/"
        },
        "outputId": "ea19ecdc-0506-476a-9266-bcb7236006c9"
      },
      "source": [
        "df = pd.concat([df, df_non_fire])\n",
        "print(df)"
      ],
      "execution_count": 11,
      "outputs": [
        {
          "output_type": "stream",
          "text": [
            "         latitude   longitude    acq_date  acq_time  type  fire\n",
            "0      -33.263584  150.323334  2019-12-01     258.0   0.0     1\n",
            "1      -33.275116  150.324799  2019-12-01     258.0   0.0     1\n",
            "2      -33.272636  150.370300  2019-12-01     258.0   0.0     1\n",
            "3      -33.262867  150.546707  2019-12-01     258.0   0.0     1\n",
            "4      -33.279850  150.344421  2019-12-01     258.0   0.0     1\n",
            "...           ...         ...         ...       ...   ...   ...\n",
            "152577 -30.100000  135.500000  2020-01-27       NaN   NaN     0\n",
            "152578 -30.100000  135.500000  2020-01-28       NaN   NaN     0\n",
            "152579 -30.100000  135.500000  2020-01-29       NaN   NaN     0\n",
            "152580 -30.100000  135.500000  2020-01-30       NaN   NaN     0\n",
            "152581 -30.100000  135.500000  2020-01-31       NaN   NaN     0\n",
            "\n",
            "[433060 rows x 6 columns]\n"
          ],
          "name": "stdout"
        }
      ]
    },
    {
      "cell_type": "markdown",
      "metadata": {
        "id": "tilSMMDnfius"
      },
      "source": [
        "### Land surface temperature\n",
        "\n",
        "Source: https://neo.sci.gsfc.nasa.gov/archive/csv/MOD_LSTD_D/ <br>"
      ]
    },
    {
      "cell_type": "code",
      "metadata": {
        "id": "cytow9KgWi7e"
      },
      "source": [
        "# Get land surface temperature for each row\n",
        "temperature = []\n",
        "\n",
        "# Get unique dates\n",
        "unique_acq_dates = df.acq_date.unique()\n",
        "\n",
        "# Define column and index labels for renaming later\n",
        "column_labels = np.around(np.arange(0.1,180.1,0.1), 1)\n",
        "column_labels = np.concatenate((-np.flip(column_labels), column_labels))\n",
        "index_labels = np.around(np.arange(0.1,90.1,0.1), 1)\n",
        "index_labels = np.concatenate((np.flip(index_labels), -index_labels))\n",
        "\n",
        "for acq_date in unique_acq_dates:\n",
        "  df_acq_date = df[df.acq_date == acq_date]\n",
        "\n",
        "  # Define url for csv file containing land surface temperature\n",
        "  url = 'https://neo.sci.gsfc.nasa.gov/archive/csv/MOD_LSTD_D/MOD_LSTD_D_{}.CSV.gz'.format(acq_date)\n",
        "\n",
        "  # Retrive csv file using url\n",
        "  response = requests.get(url)\n",
        "\n",
        "  filename = url.split(\"/\")[-1]\n",
        "  with open(filename, \"wb\") as f:\n",
        "      r = requests.get(url)\n",
        "      f.write(r.content)\n",
        "\n",
        "  df_temperature = pd.read_csv(filename, compression='gzip', header=None)\n",
        "\n",
        "  # Rename index and column of the dataframe for the ease of accessing cell value\n",
        "  df_temperature.columns = column_labels\n",
        "  df_temperature.index = index_labels\n",
        "\n",
        "  for lat, long in list(zip(df_acq_date.latitude, df_acq_date.longitude)):\n",
        "    temperature.append(df_temperature.loc[round(lat, 1), round(long, 1)])\n",
        "\n",
        "  print('All the land temperature for {} have been obtained'.format(acq_date))\n",
        "    \n",
        "df['land_temperature'] = temperature"
      ],
      "execution_count": null,
      "outputs": []
    },
    {
      "cell_type": "code",
      "metadata": {
        "id": "TRhSHCoi6YhP",
        "colab": {
          "base_uri": "https://localhost:8080/",
          "height": 297
        },
        "outputId": "c8f3fa25-9da0-4cbe-823c-0e9b6628ff6a"
      },
      "source": [
        "# Remove rows with extremely high land temperature (i.e. 99999)\n",
        "df = df[df.land_temperature != 99999].reset_index(drop=True)\n",
        "df.describe()"
      ],
      "execution_count": 13,
      "outputs": [
        {
          "output_type": "execute_result",
          "data": {
            "text/html": [
              "<div>\n",
              "<style scoped>\n",
              "    .dataframe tbody tr th:only-of-type {\n",
              "        vertical-align: middle;\n",
              "    }\n",
              "\n",
              "    .dataframe tbody tr th {\n",
              "        vertical-align: top;\n",
              "    }\n",
              "\n",
              "    .dataframe thead th {\n",
              "        text-align: right;\n",
              "    }\n",
              "</style>\n",
              "<table border=\"1\" class=\"dataframe\">\n",
              "  <thead>\n",
              "    <tr style=\"text-align: right;\">\n",
              "      <th></th>\n",
              "      <th>latitude</th>\n",
              "      <th>longitude</th>\n",
              "      <th>acq_time</th>\n",
              "      <th>type</th>\n",
              "      <th>fire</th>\n",
              "      <th>land_temperature</th>\n",
              "    </tr>\n",
              "  </thead>\n",
              "  <tbody>\n",
              "    <tr>\n",
              "      <th>count</th>\n",
              "      <td>247224.000000</td>\n",
              "      <td>247224.000000</td>\n",
              "      <td>162180.000000</td>\n",
              "      <td>162180.000000</td>\n",
              "      <td>247224.000000</td>\n",
              "      <td>247224.000000</td>\n",
              "    </tr>\n",
              "    <tr>\n",
              "      <th>mean</th>\n",
              "      <td>-28.041478</td>\n",
              "      <td>141.335695</td>\n",
              "      <td>416.197009</td>\n",
              "      <td>0.028499</td>\n",
              "      <td>0.649593</td>\n",
              "      <td>39.990269</td>\n",
              "    </tr>\n",
              "    <tr>\n",
              "      <th>std</th>\n",
              "      <td>6.786669</td>\n",
              "      <td>9.056229</td>\n",
              "      <td>89.235740</td>\n",
              "      <td>0.288177</td>\n",
              "      <td>0.477098</td>\n",
              "      <td>6.217882</td>\n",
              "    </tr>\n",
              "    <tr>\n",
              "      <th>min</th>\n",
              "      <td>-42.827450</td>\n",
              "      <td>113.447006</td>\n",
              "      <td>228.000000</td>\n",
              "      <td>0.000000</td>\n",
              "      <td>0.000000</td>\n",
              "      <td>6.417323</td>\n",
              "    </tr>\n",
              "    <tr>\n",
              "      <th>25%</th>\n",
              "      <td>-32.953738</td>\n",
              "      <td>136.900000</td>\n",
              "      <td>344.000000</td>\n",
              "      <td>0.000000</td>\n",
              "      <td>0.000000</td>\n",
              "      <td>36.456690</td>\n",
              "    </tr>\n",
              "    <tr>\n",
              "      <th>50%</th>\n",
              "      <td>-29.300000</td>\n",
              "      <td>143.500000</td>\n",
              "      <td>413.000000</td>\n",
              "      <td>0.000000</td>\n",
              "      <td>1.000000</td>\n",
              "      <td>42.795277</td>\n",
              "    </tr>\n",
              "    <tr>\n",
              "      <th>75%</th>\n",
              "      <td>-23.400000</td>\n",
              "      <td>148.775643</td>\n",
              "      <td>450.000000</td>\n",
              "      <td>0.000000</td>\n",
              "      <td>1.000000</td>\n",
              "      <td>45.000000</td>\n",
              "    </tr>\n",
              "    <tr>\n",
              "      <th>max</th>\n",
              "      <td>-9.114081</td>\n",
              "      <td>153.360321</td>\n",
              "      <td>707.000000</td>\n",
              "      <td>3.000000</td>\n",
              "      <td>1.000000</td>\n",
              "      <td>45.000000</td>\n",
              "    </tr>\n",
              "  </tbody>\n",
              "</table>\n",
              "</div>"
            ],
            "text/plain": [
              "            latitude      longitude  ...           fire  land_temperature\n",
              "count  247224.000000  247224.000000  ...  247224.000000     247224.000000\n",
              "mean      -28.041478     141.335695  ...       0.649593         39.990269\n",
              "std         6.786669       9.056229  ...       0.477098          6.217882\n",
              "min       -42.827450     113.447006  ...       0.000000          6.417323\n",
              "25%       -32.953738     136.900000  ...       0.000000         36.456690\n",
              "50%       -29.300000     143.500000  ...       1.000000         42.795277\n",
              "75%       -23.400000     148.775643  ...       1.000000         45.000000\n",
              "max        -9.114081     153.360321  ...       1.000000         45.000000\n",
              "\n",
              "[8 rows x 6 columns]"
            ]
          },
          "metadata": {
            "tags": []
          },
          "execution_count": 13
        }
      ]
    },
    {
      "cell_type": "markdown",
      "metadata": {
        "id": "aTWN73LM1nXj"
      },
      "source": [
        "### Solar Insolation\n",
        "\n",
        "Source: https://neo.sci.gsfc.nasa.gov/archive/rgb/CERES_INSOL_D<br>"
      ]
    },
    {
      "cell_type": "code",
      "metadata": {
        "id": "aXmm9z26O24s"
      },
      "source": [
        "# Get net_radiation for each row\n",
        "solar_insolation = []\n",
        "\n",
        "# Get unique dates\n",
        "unique_acq_dates = df.acq_date.unique()\n",
        "\n",
        "# Define column and index labels for renaming later\n",
        "column_labels = np.around(np.arange(0.25,180.25,0.25), 2)\n",
        "column_labels = np.concatenate((-np.flip(column_labels), column_labels))\n",
        "index_labels = np.around(np.arange(0.25,90.25,0.25), 2)\n",
        "index_labels = np.concatenate((np.flip(index_labels), -index_labels))\n",
        "\n",
        "url_old = ''\n",
        "\n",
        "for acq_date in unique_acq_dates:\n",
        "  df_acq_date = df[df.acq_date == acq_date]\n",
        "\n",
        "  # Define url for PNG representing solar insolation\n",
        "  url = 'https://neo.sci.gsfc.nasa.gov/archive/rgb/CERES_INSOL_D/CERES_INSOL_D_{}.PNG'.format(acq_date)\n",
        "  \n",
        "  # If url (or data) doesn't exist, then use the previous url (url_old). \n",
        "  # Otherwise, update url_old with current url for future use\n",
        "  request = requests.get(url)\n",
        "  if request.status_code == 200:\n",
        "    url_old = url\n",
        "  else:\n",
        "    url = url_old\n",
        "  \n",
        "  # Retrive PNG using url\n",
        "  img = io.imread(url)\n",
        "\n",
        "  # Remove alpha channel of PNG image\n",
        "  if len(img.shape) > 2 and img.shape[2] == 4:\n",
        "      # Convert the image from RGBA2RGB\n",
        "      img = cv2.cvtColor(img, cv2.COLOR_BGRA2BGR)\n",
        "\n",
        "  # Compress 3D into 2D by computing the euclidean distance for each pixel\n",
        "  img_norm = np.linalg.norm(img, axis=2)\n",
        "\n",
        "  # Convert numpy array to data frame\n",
        "  df_solar_insolation = pd.DataFrame(data=img_norm)\n",
        "\n",
        "  # Rename index and column of the dataframe for the ease of accessing cell value\n",
        "  df_solar_insolation.columns = column_labels\n",
        "  df_solar_insolation.index = index_labels\n",
        "\n",
        "  for lat, long in list(zip(df_acq_date.latitude, df_acq_date.longitude)):\n",
        "    # Round latitude and longitude to nearest 0.25\n",
        "    lat_new = round(lat*4)/4\n",
        "    long_new = round(long*4)/4\n",
        "\n",
        "    solar_insolation.append(df_solar_insolation.loc[lat_new, long_new])\n",
        "\n",
        "  print('All the solar insolation for {} have been obtained'.format(acq_date))\n",
        "    \n",
        "df['solar_insolation'] = solar_insolation"
      ],
      "execution_count": null,
      "outputs": []
    },
    {
      "cell_type": "markdown",
      "metadata": {
        "id": "-nO0wWbQbgr9"
      },
      "source": [
        "### Rainfall\n",
        "\n",
        "Source: https://gpm1.gesdisc.eosdis.nasa.gov/data/GPM_L3/GPM_3IMERGDF.06/<br>\n",
        "Check [here](https://docserver.gesdisc.eosdis.nasa.gov/public/project/GPM/IMERG_doc.06.pdf) for attribute fields for rainfall dataset\n",
        "\n",
        "Check [here](https://disc.gsfc.nasa.gov/information/howto?title=How%20to%20Download%20Data%20Files%20from%20HTTPS%20Service%20with%20wget) for downloading .nc4 file using url and [here](https://towardsdatascience.com/read-netcdf-data-with-python-901f7ff61648) for reading .nc4 file"
      ]
    },
    {
      "cell_type": "code",
      "metadata": {
        "id": "ik-u-b577lUw"
      },
      "source": [
        "# Get urls for 2019_12 files in the parent directory\n",
        "url = \"https://gpm1.gesdisc.eosdis.nasa.gov/data/GPM_L3/GPM_3IMERGDF.06/2019/12\"\n",
        "files_2019_12 = !wget -q -nH -nd \"https://gpm1.gesdisc.eosdis.nasa.gov/data/GPM_L3/GPM_3IMERGDF.06/2019/12\" -O - | grep 3B-DAY.MS.MRG.3IMERG | awk -F'\\\"' '{print $4}'\n",
        "files_2019_12 = [file for file in files_2019_12  if file.endswith('.nc4')]\n",
        "files_2019_12 = [os.path.join(url, file) for file in files_2019_12]\n",
        "\n",
        "# Save the urls in a text file for future download using wget\n",
        "with open('2019_12_file.txt', 'w') as f:\n",
        "    for file in files_2019_12:\n",
        "        f.write(\"{}\\n\".format(file))\n",
        "\n",
        "# Download files for nasa website\n",
        "!wget --load-cookies C:\\.urs_cookies --save-cookies C:\\.urs_cookies --auth-no-challenge=on --keep-session-cookies --ask-user --ask-password --content-disposition -i 2019_12_file.txt"
      ],
      "execution_count": null,
      "outputs": []
    },
    {
      "cell_type": "code",
      "metadata": {
        "id": "yCr6CJRIS9qj"
      },
      "source": [
        "# Get urls for 2020_01 files in the parent directory\n",
        "url = \"https://gpm1.gesdisc.eosdis.nasa.gov/data/GPM_L3/GPM_3IMERGDF.06/2020/01\"\n",
        "files_2020_01 = !wget -q -nH -nd \"https://gpm1.gesdisc.eosdis.nasa.gov/data/GPM_L3/GPM_3IMERGDF.06/2020/01\" -O - | grep 3B-DAY.MS.MRG.3IMERG | awk -F'\\\"' '{print $4}'\n",
        "files_2020_01 = [file for file in files_2020_01  if file.endswith('.nc4')]\n",
        "files_2020_01 = [os.path.join(url, file) for file in files_2020_01]\n",
        "\n",
        "# Save the urls in a text file for future download using wget\n",
        "with open('2020_01_file.txt', 'w') as f:\n",
        "    for file in files_2020_01:\n",
        "        f.write(\"{}\\n\".format(file))\n",
        "\n",
        "# Download files for nasa website\n",
        "!wget --load-cookies C:\\.urs_cookies --save-cookies C:\\.urs_cookies --auth-no-challenge=on --keep-session-cookies --ask-user --ask-password --content-disposition -i 2020_01_file.txt"
      ],
      "execution_count": null,
      "outputs": []
    },
    {
      "cell_type": "code",
      "metadata": {
        "id": "43URxrRGUGxk"
      },
      "source": [
        "# Get rainfall for each row\n",
        "rainfall = []\n",
        "\n",
        "# Get unique dates\n",
        "unique_acq_dates = df.acq_date.unique()\n",
        "\n",
        "# Define column and index labels for renaming later\n",
        "column_labels = np.around(np.arange(0.1,180.1,0.1), 1)\n",
        "column_labels = np.concatenate((-np.flip(column_labels), column_labels))\n",
        "index_labels = np.around(np.arange(0.1,90.1,0.1), 1)\n",
        "index_labels = np.concatenate((np.flip(index_labels), -index_labels))\n",
        "\n",
        "for acq_date in unique_acq_dates:\n",
        "  df_acq_date = df[df.acq_date == acq_date]\n",
        "\n",
        "  # Define name of the file containing rainfall\n",
        "  filename = '3B-DAY.MS.MRG.3IMERG.{}-S000000-E235959.V06.nc4'.format(acq_date.replace('-', ''))\n",
        "\n",
        "  # Retrive file\n",
        "  ds = nc.Dataset(filename)\n",
        "\n",
        "  # Retrive rainfall array\n",
        "  arr_rainfall = np.rot90(ds['precipitationCal'][:].squeeze())\n",
        "  \n",
        "  # Replace missing value in rainfall array with NaN\n",
        "  unmasked_arr_rainfall = arr_rainfall.data\n",
        "  unmasked_arr_rainfall[unmasked_arr_rainfall == -9999.9] = np.nan\n",
        "\n",
        "  # Convert numpy array to data frame\n",
        "  df_rainfall = pd.DataFrame(data=arr_rainfall)\n",
        "\n",
        "  # Rename index and column of the dataframe for the ease of accessing cell value\n",
        "  df_rainfall.columns = column_labels\n",
        "  df_rainfall.index = index_labels\n",
        "\n",
        "  for lat, long in list(zip(df_acq_date.latitude, df_acq_date.longitude)):\n",
        "    rainfall.append(df_rainfall.loc[round(lat, 1), round(long, 1)])\n",
        "\n",
        "  print('All the rainfall for {} have been obtained'.format(acq_date))\n",
        "    \n",
        "df['rainfall'] = rainfall"
      ],
      "execution_count": null,
      "outputs": []
    },
    {
      "cell_type": "code",
      "metadata": {
        "id": "6qKRQ8QLT8gd",
        "colab": {
          "base_uri": "https://localhost:8080/",
          "height": 297
        },
        "outputId": "e05f80df-57f1-4292-d818-a37158cd8ad3"
      },
      "source": [
        "df.describe()"
      ],
      "execution_count": 18,
      "outputs": [
        {
          "output_type": "execute_result",
          "data": {
            "text/html": [
              "<div>\n",
              "<style scoped>\n",
              "    .dataframe tbody tr th:only-of-type {\n",
              "        vertical-align: middle;\n",
              "    }\n",
              "\n",
              "    .dataframe tbody tr th {\n",
              "        vertical-align: top;\n",
              "    }\n",
              "\n",
              "    .dataframe thead th {\n",
              "        text-align: right;\n",
              "    }\n",
              "</style>\n",
              "<table border=\"1\" class=\"dataframe\">\n",
              "  <thead>\n",
              "    <tr style=\"text-align: right;\">\n",
              "      <th></th>\n",
              "      <th>latitude</th>\n",
              "      <th>longitude</th>\n",
              "      <th>acq_time</th>\n",
              "      <th>type</th>\n",
              "      <th>fire</th>\n",
              "      <th>land_temperature</th>\n",
              "      <th>solar_insolation</th>\n",
              "      <th>rainfall</th>\n",
              "    </tr>\n",
              "  </thead>\n",
              "  <tbody>\n",
              "    <tr>\n",
              "      <th>count</th>\n",
              "      <td>247224.000000</td>\n",
              "      <td>247224.000000</td>\n",
              "      <td>162180.000000</td>\n",
              "      <td>162180.000000</td>\n",
              "      <td>247224.000000</td>\n",
              "      <td>247224.000000</td>\n",
              "      <td>247224.000000</td>\n",
              "      <td>247224.000000</td>\n",
              "    </tr>\n",
              "    <tr>\n",
              "      <th>mean</th>\n",
              "      <td>-28.041478</td>\n",
              "      <td>141.335695</td>\n",
              "      <td>416.197009</td>\n",
              "      <td>0.028499</td>\n",
              "      <td>0.649593</td>\n",
              "      <td>39.990269</td>\n",
              "      <td>315.361273</td>\n",
              "      <td>0.815578</td>\n",
              "    </tr>\n",
              "    <tr>\n",
              "      <th>std</th>\n",
              "      <td>6.786669</td>\n",
              "      <td>9.056229</td>\n",
              "      <td>89.235740</td>\n",
              "      <td>0.288177</td>\n",
              "      <td>0.477098</td>\n",
              "      <td>6.217882</td>\n",
              "      <td>18.517741</td>\n",
              "      <td>3.521952</td>\n",
              "    </tr>\n",
              "    <tr>\n",
              "      <th>min</th>\n",
              "      <td>-42.827450</td>\n",
              "      <td>113.447006</td>\n",
              "      <td>228.000000</td>\n",
              "      <td>0.000000</td>\n",
              "      <td>0.000000</td>\n",
              "      <td>6.417323</td>\n",
              "      <td>99.040396</td>\n",
              "      <td>0.000000</td>\n",
              "    </tr>\n",
              "    <tr>\n",
              "      <th>25%</th>\n",
              "      <td>-32.953738</td>\n",
              "      <td>136.900000</td>\n",
              "      <td>344.000000</td>\n",
              "      <td>0.000000</td>\n",
              "      <td>0.000000</td>\n",
              "      <td>36.456690</td>\n",
              "      <td>307.798635</td>\n",
              "      <td>0.000000</td>\n",
              "    </tr>\n",
              "    <tr>\n",
              "      <th>50%</th>\n",
              "      <td>-29.300000</td>\n",
              "      <td>143.500000</td>\n",
              "      <td>413.000000</td>\n",
              "      <td>0.000000</td>\n",
              "      <td>1.000000</td>\n",
              "      <td>42.795277</td>\n",
              "      <td>319.336813</td>\n",
              "      <td>0.000000</td>\n",
              "    </tr>\n",
              "    <tr>\n",
              "      <th>75%</th>\n",
              "      <td>-23.400000</td>\n",
              "      <td>148.775643</td>\n",
              "      <td>450.000000</td>\n",
              "      <td>0.000000</td>\n",
              "      <td>1.000000</td>\n",
              "      <td>45.000000</td>\n",
              "      <td>329.449541</td>\n",
              "      <td>0.079013</td>\n",
              "    </tr>\n",
              "    <tr>\n",
              "      <th>max</th>\n",
              "      <td>-9.114081</td>\n",
              "      <td>153.360321</td>\n",
              "      <td>707.000000</td>\n",
              "      <td>3.000000</td>\n",
              "      <td>1.000000</td>\n",
              "      <td>45.000000</td>\n",
              "      <td>348.364751</td>\n",
              "      <td>138.224762</td>\n",
              "    </tr>\n",
              "  </tbody>\n",
              "</table>\n",
              "</div>"
            ],
            "text/plain": [
              "            latitude      longitude  ...  solar_insolation       rainfall\n",
              "count  247224.000000  247224.000000  ...     247224.000000  247224.000000\n",
              "mean      -28.041478     141.335695  ...        315.361273       0.815578\n",
              "std         6.786669       9.056229  ...         18.517741       3.521952\n",
              "min       -42.827450     113.447006  ...         99.040396       0.000000\n",
              "25%       -32.953738     136.900000  ...        307.798635       0.000000\n",
              "50%       -29.300000     143.500000  ...        319.336813       0.000000\n",
              "75%       -23.400000     148.775643  ...        329.449541       0.079013\n",
              "max        -9.114081     153.360321  ...        348.364751     138.224762\n",
              "\n",
              "[8 rows x 8 columns]"
            ]
          },
          "metadata": {
            "tags": []
          },
          "execution_count": 18
        }
      ]
    },
    {
      "cell_type": "markdown",
      "metadata": {
        "id": "PpVSn-KDfBbo"
      },
      "source": [
        "### Save cleaned dataset"
      ]
    },
    {
      "cell_type": "code",
      "metadata": {
        "id": "8gsZRoyc36uG"
      },
      "source": [
        "# Save the data frame with non-fire rows (tackle class imbalance problem)\n",
        "fpath_dataset = '/content/drive/Shared drives/NASA Space App/Code/Dataset'\n",
        "outpath = os.path.join(fpath_dataset, 'Fire', 'master_dataset_with_non_fire.csv')\n",
        "\n",
        "df.to_csv(outpath, index=False)"
      ],
      "execution_count": 19,
      "outputs": []
    },
    {
      "cell_type": "code",
      "metadata": {
        "id": "odBUWQhyfiC4"
      },
      "source": [
        "# Save the data frame with majority of fire rows\n",
        "fpath_dataset = '/content/drive/Shared drives/NASA Space App/Code/Dataset'\n",
        "outpath = os.path.join(fpath_dataset, 'Fire', 'master_dataset.csv')\n",
        "\n",
        "df_fire = df[df.acq_time.notna()].reset_index(drop=True)\n",
        "df_fire.to_csv(outpath, index=False)"
      ],
      "execution_count": 20,
      "outputs": []
    }
  ]
}